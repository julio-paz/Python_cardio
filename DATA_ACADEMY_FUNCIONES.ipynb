{
  "nbformat": 4,
  "nbformat_minor": 0,
  "metadata": {
    "colab": {
      "name": "DATA ACADEMY_FUNCIONES.ipynb",
      "provenance": [],
      "authorship_tag": "ABX9TyOjBZK0sqJj73whxupL/PQ+",
      "include_colab_link": true
    },
    "kernelspec": {
      "name": "python3",
      "display_name": "Python 3"
    },
    "language_info": {
      "name": "python"
    }
  },
  "cells": [
    {
      "cell_type": "markdown",
      "metadata": {
        "id": "view-in-github",
        "colab_type": "text"
      },
      "source": [
        "<a href=\"https://colab.research.google.com/github/julio-paz/Python_cardio/blob/main/DATA_ACADEMY_FUNCIONES.ipynb\" target=\"_parent\"><img src=\"https://colab.research.google.com/assets/colab-badge.svg\" alt=\"Open In Colab\"/></a>"
      ]
    },
    {
      "cell_type": "markdown",
      "metadata": {
        "id": "fuOn45qqfXPa"
      },
      "source": [
        "# FUNCIONES ALJEBRAICAS "
      ]
    },
    {
      "cell_type": "code",
      "metadata": {
        "id": "yR9MmU1IT6d5"
      },
      "source": [
        "import matplotlib.pyplot as plt   # librería para graficar\n",
        "import numpy as np                # librería para manejo de vectores y utilidades matemáticas"
      ],
      "execution_count": 18,
      "outputs": []
    },
    {
      "cell_type": "markdown",
      "metadata": {
        "id": "1dhGlB81bcEl"
      },
      "source": [
        "FUNCION LINEAL "
      ]
    },
    {
      "cell_type": "code",
      "metadata": {
        "colab": {
          "base_uri": "https://localhost:8080/",
          "height": 281
        },
        "id": "x7Q1ZWaEWQRN",
        "outputId": "5d66a7b0-5ba6-41a2-bc54-22ccae9b9502"
      },
      "source": [
        "res = 100 #numero de puntos, primer dato a considerar \n",
        "\n",
        "def f(m,x,b):\n",
        "  return m*x + b\n",
        "\n",
        "\n",
        "m = 0.1\n",
        "\n",
        "x = np.linspace(-10.0, 10.0, num=res)\n",
        "\n",
        "b = 5\n",
        "\n",
        "y = f(m,x,b)\n",
        "\n",
        "\n",
        "fig, ax = plt.subplots()\n",
        "ax.plot(x, y)\n",
        "ax.grid()\n",
        "ax.axhline(y=0, color='r')\n",
        "ax.axvline(x=0, color='r')"
      ],
      "execution_count": 24,
      "outputs": [
        {
          "output_type": "execute_result",
          "data": {
            "text/plain": [
              "<matplotlib.lines.Line2D at 0x7f0dc30e8b10>"
            ]
          },
          "metadata": {
            "tags": []
          },
          "execution_count": 24
        },
        {
          "output_type": "display_data",
          "data": {
            "image/png": "[encoded data removed]",
            "text/plain": [
              "<Figure size 432x288 with 1 Axes>"
            ]
          },
          "metadata": {
            "tags": [],
            "needs_background": "light"
          }
        }
      ]
    },
    {
      "cell_type": "markdown",
      "metadata": {
        "id": "o_OYhlJdbfqn"
      },
      "source": [
        "FUNCION POLINOMICA "
      ]
    },
    {
      "cell_type": "code",
      "metadata": {
        "colab": {
          "base_uri": "https://localhost:8080/",
          "height": 292
        },
        "id": "LrNWyEODbh6e",
        "outputId": "8fe252a6-5cff-41b2-d9c1-4b9361e2e808"
      },
      "source": [
        "def f(X):\n",
        "  return 2*X**8 - x**4 + 3*X**2 + 4\n",
        "\n",
        "  res =100\n",
        "\n",
        "\n",
        "x = np.linspace(-10.0, 10.0, num=res)\n",
        "\n",
        "\n",
        "y = f(x)\n",
        "\n",
        "\n",
        "fig, ax = plt.subplots()\n",
        "ax.plot(x, y)\n",
        "ax.grid()\n",
        "ax.axhline(y=0, color='r')\n",
        "ax.axvline(x=0, color='r')"
      ],
      "execution_count": 30,
      "outputs": [
        {
          "output_type": "execute_result",
          "data": {
            "text/plain": [
              "<matplotlib.lines.Line2D at 0x7f0dbeec2f10>"
            ]
          },
          "metadata": {
            "tags": []
          },
          "execution_count": 30
        },
        {
          "output_type": "display_data",
          "data": {
            "image/png": "[encoded data removed]",
            "text/plain": [
              "<Figure size 432x288 with 1 Axes>"
            ]
          },
          "metadata": {
            "tags": [],
            "needs_background": "light"
          }
        }
      ]
    },
    {
      "cell_type": "markdown",
      "metadata": {
        "id": "1XxAvw3dfDj-"
      },
      "source": [
        "# FUNCIONES TRASCEDENTES "
      ]
    },
    {
      "cell_type": "markdown",
      "metadata": {
        "id": "UqccYAUxf0wb"
      },
      "source": [
        "FUNCIONES TRIGONOMETRICAS "
      ]
    },
    {
      "cell_type": "code",
      "metadata": {
        "colab": {
          "base_uri": "https://localhost:8080/",
          "height": 281
        },
        "id": "yQ1qQrlkfx-y",
        "outputId": "ab6dbdad-d32c-49b3-9e8e-dcfc68ee0dd0"
      },
      "source": [
        "def f(X):\n",
        "  return np.sin(x)\n",
        "\n",
        "  res = 100\n",
        "\n",
        "\n",
        "x = np.linspace(-10.0, 10.0, num=res)\n",
        "\n",
        "\n",
        "y = f(x)\n",
        "\n",
        "\n",
        "fig, ax = plt.subplots()\n",
        "ax.plot(x, y)\n",
        "ax.grid()\n",
        "ax.axhline(y=0, color='r')\n",
        "ax.axvline(x=0, color='r')"
      ],
      "execution_count": 36,
      "outputs": [
        {
          "output_type": "execute_result",
          "data": {
            "text/plain": [
              "<matplotlib.lines.Line2D at 0x7f0dbe999f10>"
            ]
          },
          "metadata": {
            "tags": []
          },
          "execution_count": 36
        },
        {
          "output_type": "display_data",
          "data": {
            "image/png": "[encoded data removed]",
            "text/plain": [
              "<Figure size 432x288 with 1 Axes>"
            ]
          },
          "metadata": {
            "tags": [],
            "needs_background": "light"
          }
        }
      ]
    },
    {
      "cell_type": "markdown",
      "metadata": {
        "id": "6eQYg5ychPMe"
      },
      "source": [
        "FUNCION EXPONENCIAL "
      ]
    },
    {
      "cell_type": "code",
      "metadata": {
        "colab": {
          "base_uri": "https://localhost:8080/",
          "height": 281
        },
        "id": "gDUHhHhuiG9-",
        "outputId": "8d43bbb2-0dcb-4fe9-d827-10b6f522aade"
      },
      "source": [
        "def f(X):\n",
        "  return np.e**x\n",
        "\n",
        "  res =1000\n",
        "\n",
        "\n",
        "x = np.linspace(-1.0, 1.0, num=res)\n",
        "\n",
        "\n",
        "y = f(x)\n",
        "\n",
        "\n",
        "fig, ax = plt.subplots()\n",
        "ax.plot(x, y)\n",
        "ax.grid()\n",
        "ax.axhline(y=0, color='r')\n",
        "ax.axvline(x=0, color='r')"
      ],
      "execution_count": 41,
      "outputs": [
        {
          "output_type": "execute_result",
          "data": {
            "text/plain": [
              "<matplotlib.lines.Line2D at 0x7f0dbe6cb990>"
            ]
          },
          "metadata": {
            "tags": []
          },
          "execution_count": 41
        },
        {
          "output_type": "display_data",
          "data": {
            "image/png": "[encoded data removed]",
            "text/plain": [
              "<Figure size 432x288 with 1 Axes>"
            ]
          },
          "metadata": {
            "tags": [],
            "needs_background": "light"
          }
        }
      ]
    },
    {
      "cell_type": "markdown",
      "metadata": {
        "id": "ZFbHGMo2jRyK"
      },
      "source": [
        "FUNCION LOGARITMO "
      ]
    },
    {
      "cell_type": "code",
      "metadata": {
        "colab": {
          "base_uri": "https://localhost:8080/",
          "height": 281
        },
        "id": "GtoPo3M4jRP1",
        "outputId": "82d580e2-0bd9-4b7a-82c3-6574432eaa90"
      },
      "source": [
        "def f(X):\n",
        "  return np.log2(x)\n",
        "\n",
        "  res =1000\n",
        "\n",
        "\n",
        "x = np.linspace(0.01, 250.0, num=res)\n",
        "\n",
        "\n",
        "y = f(x)\n",
        "\n",
        "\n",
        "fig, ax = plt.subplots()\n",
        "ax.plot(x, y)\n",
        "ax.grid()\n",
        "ax.axhline(y=0, color='r')\n",
        "ax.axvline(x=0, color='r')"
      ],
      "execution_count": 47,
      "outputs": [
        {
          "output_type": "execute_result",
          "data": {
            "text/plain": [
              "<matplotlib.lines.Line2D at 0x7f0dbe46a210>"
            ]
          },
          "metadata": {
            "tags": []
          },
          "execution_count": 47
        },
        {
          "output_type": "display_data",
          "data": {
            "image/png": "[encoded data removed]",
            "text/plain": [
              "<Figure size 432x288 with 1 Axes>"
            ]
          },
          "metadata": {
            "tags": [],
            "needs_background": "light"
          }
        }
      ]
    },
    {
      "cell_type": "markdown",
      "metadata": {
        "id": "vmjdsXJZklXN"
      },
      "source": [
        "FUNCION SECCIONADA"
      ]
    },
    {
      "cell_type": "code",
      "metadata": {
        "colab": {
          "base_uri": "https://localhost:8080/",
          "height": 281
        },
        "id": "L8bWmPZDklB9",
        "outputId": "3d8d47bb-5776-452f-a638-f3110f08887c"
      },
      "source": [
        "def H(x):\n",
        "  y= np.zeros(len(x))\n",
        "  for idx,x in enumerate(x):\n",
        "    if x>=0:\n",
        "      y[idx] = 1.0\n",
        "  return y\n",
        "\n",
        "  res =1000\n",
        "\n",
        "x = np.linspace(-10.0, 10.0, num=res)\n",
        "y = H(x)\n",
        "\n",
        "fig, ax = plt.subplots()\n",
        "ax.plot(x, y)\n",
        "ax.grid()\n",
        "ax.axhline(y=0, color='r')\n",
        "ax.axvline(x=0, color='r')"
      ],
      "execution_count": 49,
      "outputs": [
        {
          "output_type": "execute_result",
          "data": {
            "text/plain": [
              "<matplotlib.lines.Line2D at 0x7f0dbe496910>"
            ]
          },
          "metadata": {
            "tags": []
          },
          "execution_count": 49
        },
        {
          "output_type": "display_data",
          "data": {
            "image/png": "[encoded data removed]",
            "text/plain": [
              "<Figure size 432x288 with 1 Axes>"
            ]
          },
          "metadata": {
            "tags": [],
            "needs_background": "light"
          }
        }
      ]
    }
  ]
}